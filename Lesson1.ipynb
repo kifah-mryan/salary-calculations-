{
  "nbformat": 4,
  "nbformat_minor": 0,
  "metadata": {
    "colab": {
      "provenance": [],
      "authorship_tag": "ABX9TyNWNOET8hlkrFvQOad+33oN",
      "include_colab_link": true
    },
    "kernelspec": {
      "name": "python3",
      "display_name": "Python 3"
    },
    "language_info": {
      "name": "python"
    }
  },
  "cells": [
    {
      "cell_type": "markdown",
      "metadata": {
        "id": "view-in-github",
        "colab_type": "text"
      },
      "source": [
        "<a href=\"https://colab.research.google.com/github/kifah-mryan/salary-calculations-/blob/main/Lesson1.ipynb\" target=\"_parent\"><img src=\"https://colab.research.google.com/assets/colab-badge.svg\" alt=\"Open In Colab\"/></a>"
      ]
    },
    {
      "cell_type": "code",
      "execution_count": 25,
      "metadata": {
        "colab": {
          "base_uri": "https://localhost:8080/"
        },
        "id": "c_LLsWYWI7TV",
        "outputId": "759b9d8b-5052-409f-c7ec-873e7d213fcc"
      },
      "outputs": [
        {
          "output_type": "stream",
          "name": "stdout",
          "text": [
            "10\n",
            "My Hieght im meters = 2.15 Kifah\n",
            "16.38\n"
          ]
        }
      ],
      "source": [
        "print(10)\n",
        "hat_hieght_cm = 25\n",
        "my_hieght_cm = 190\n",
        "#how tall am I  in meters when wearing my hat?\n",
        "Total_hieght = (hat_hieght_cm + my_hieght_cm)/100\n",
        "print(\"My Hieght im meters =\",Total_hieght,\"Kifah\")\n",
        "\n",
        "\n",
        "print(round(16.38,3))\n",
        "def least_difference(a, b, c):\n",
        "  diff1 = abs(a-b)\n",
        "  diff2 = abs(b-c)\n",
        "  diff3 = abs(a-c)\n",
        "  return min(diff1, diff2, diff3)\n",
        "  print(least_difference(1, 10, 100))\n",
        "\n",
        "def kifah (a,b,c):\n",
        "  A = a+b\n",
        "  B = (a+c)/10\n",
        "  print (kifah(5,10,85))"
      ]
    }
  ]
}